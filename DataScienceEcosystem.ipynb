{
 "cells": [
  {
   "cell_type": "markdown",
   "id": "08e97ead-4841-49d9-b144-2937a9766ef9",
   "metadata": {},
   "source": [
    "# Data Science Tools and Ecosystem"
   ]
  },
  {
   "cell_type": "markdown",
   "id": "3e50edd5-cf24-4d5e-be67-cc27145f44bc",
   "metadata": {},
   "source": [
    "In this notebook, Data Science Tools and Ecosystem are summarized."
   ]
  },
  {
   "cell_type": "markdown",
   "id": "e9ecca3e-03d3-468c-9347-7af87206b67d",
   "metadata": {},
   "source": [
    "**Objectives:**\n",
    "\n",
    "- Describe the components of a Data Scientist's toolkit and list various tool categories.\n",
    "- List examples of open-source tools used in data science.\n",
    "- Describe the relevant features of open-source tools."
   ]
  },
  {
   "cell_type": "markdown",
   "id": "af3d8633-b74a-462e-ad46-d52d7c2a1c43",
   "metadata": {},
   "source": [
    "Some of the popular languages that Data Scientists use are:\n",
    "- Python\n",
    "- Scala\n",
    "- R"
   ]
  },
  {
   "cell_type": "markdown",
   "id": "3567d7df-be52-4688-9539-7857d43287a1",
   "metadata": {},
   "source": [
    "Some of the commonly used libraries used by Data Scientists include:\n",
    "- TensorFlow\n",
    "- NumPy\n",
    "- Keras\n",
    "- Pandas"
   ]
  },
  {
   "cell_type": "markdown",
   "id": "450d4352-132f-43a7-baee-568a6af4efb4",
   "metadata": {},
   "source": [
    "| Data Science Tools |\n",
    "| ------------------ |\n",
    "| Jupyter Notebook   |\n",
    "| RStudio            |\n",
    "| VS Code            |\n"
   ]
  },
  {
   "cell_type": "markdown",
   "id": "f56e6da1-2468-4c45-a3a9-78aa4434bad8",
   "metadata": {},
   "source": [
    "### Below are a few examples of evaluating arithmetic expressions in Python Jupyter notebook"
   ]
  },
  {
   "cell_type": "code",
   "execution_count": 3,
   "id": "3bd7a9d1-86c2-4be4-b90f-ecbb59a80fef",
   "metadata": {},
   "outputs": [
    {
     "data": {
      "text/plain": [
       "17"
      ]
     },
     "execution_count": 3,
     "metadata": {},
     "output_type": "execute_result"
    }
   ],
   "source": [
    "# This is a simple arithmetic expression to multiply then add integers.\n",
    "result = (3 * 4) + 5\n",
    "result"
   ]
  },
  {
   "cell_type": "code",
   "execution_count": 4,
   "id": "cc53a08c-f924-4025-92be-15ab72b01016",
   "metadata": {},
   "outputs": [
    {
     "data": {
      "text/plain": [
       "3.3333333333333335"
      ]
     },
     "execution_count": 4,
     "metadata": {},
     "output_type": "execute_result"
    }
   ],
   "source": [
    "# This will convert 200 minutes to hours by dividing by 60.\n",
    "minutes = 200\n",
    "hours = minutes / 60\n",
    "hours"
   ]
  },
  {
   "cell_type": "markdown",
   "id": "9d1b3c8a-24b7-474f-8b14-ecefff7df903",
   "metadata": {},
   "source": [
    "## Author\n",
    "Amaan Saifi"
   ]
  },
  {
   "cell_type": "code",
   "execution_count": null,
   "id": "ff3a462e-76ec-492c-90b3-734ea3ca6fb9",
   "metadata": {},
   "outputs": [],
   "source": []
  }
 ],
 "metadata": {
  "kernelspec": {
   "display_name": "Python 3 (ipykernel)",
   "language": "python",
   "name": "python3"
  },
  "language_info": {
   "codemirror_mode": {
    "name": "ipython",
    "version": 3
   },
   "file_extension": ".py",
   "mimetype": "text/x-python",
   "name": "python",
   "nbconvert_exporter": "python",
   "pygments_lexer": "ipython3",
   "version": "3.12.2"
  }
 },
 "nbformat": 4,
 "nbformat_minor": 5
}
